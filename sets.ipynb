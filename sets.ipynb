{
 "cells": [
  {
   "cell_type": "code",
   "execution_count": 1,
   "metadata": {},
   "outputs": [
    {
     "name": "stdout",
     "output_type": "stream",
     "text": [
      "hello world\n"
     ]
    }
   ],
   "source": [
    "print(\"hello world\")"
   ]
  },
  {
   "cell_type": "code",
   "execution_count": 2,
   "metadata": {},
   "outputs": [
    {
     "name": "stdout",
     "output_type": "stream",
     "text": [
      "{1, 2, 3}\n",
      "{1.0, 'Hello', (1, 2, 3)}\n"
     ]
    }
   ],
   "source": [
    "my_set = {1, 2, 3}\n",
    "print(my_set)\n",
    "my_set = {1.0, \"Hello\", (1, 2, 3)}\n",
    "print(my_set)"
   ]
  },
  {
   "cell_type": "code",
   "execution_count": 3,
   "metadata": {},
   "outputs": [
    {
     "name": "stdout",
     "output_type": "stream",
     "text": [
      "{1, 2, 3, 4}\n",
      "{1, 2, 3}\n"
     ]
    },
    {
     "ename": "TypeError",
     "evalue": "unhashable type: 'list'",
     "output_type": "error",
     "traceback": [
      "\u001b[1;31m---------------------------------------------------------------------------\u001b[0m",
      "\u001b[1;31mTypeError\u001b[0m                                 Traceback (most recent call last)",
      "Cell \u001b[1;32mIn[3], line 5\u001b[0m\n\u001b[0;32m      3\u001b[0m my_set \u001b[38;5;241m=\u001b[39m \u001b[38;5;28mset\u001b[39m([\u001b[38;5;241m1\u001b[39m, \u001b[38;5;241m2\u001b[39m, \u001b[38;5;241m3\u001b[39m, \u001b[38;5;241m2\u001b[39m])\n\u001b[0;32m      4\u001b[0m \u001b[38;5;28mprint\u001b[39m(my_set)\n\u001b[1;32m----> 5\u001b[0m my_set \u001b[38;5;241m=\u001b[39m {\u001b[38;5;241m1\u001b[39m, \u001b[38;5;241m2\u001b[39m, [\u001b[38;5;241m3\u001b[39m, \u001b[38;5;241m4\u001b[39m]}\n",
      "\u001b[1;31mTypeError\u001b[0m: unhashable type: 'list'"
     ]
    }
   ],
   "source": [
    "my_set = {1, 2, 3, 4, 3, 2}\n",
    "print(my_set)\n",
    "my_set = set([1, 2, 3, 2])\n",
    "print(my_set)\n",
    "my_set = {1, 2, [3, 4]}"
   ]
  },
  {
   "cell_type": "code",
   "execution_count": 4,
   "metadata": {},
   "outputs": [
    {
     "name": "stdout",
     "output_type": "stream",
     "text": [
      "<class 'dict'>\n",
      "<class 'set'>\n"
     ]
    }
   ],
   "source": [
    "a = {}\n",
    "print(type(a))\n",
    "a = set()\n",
    "print(type(a))"
   ]
  },
  {
   "cell_type": "markdown",
   "metadata": {},
   "source": [
    "# Add()\n"
   ]
  },
  {
   "cell_type": "code",
   "execution_count": 5,
   "metadata": {},
   "outputs": [
    {
     "name": "stdout",
     "output_type": "stream",
     "text": [
      "{1, 3}\n",
      "{1, 2, 3}\n",
      "{1, 2, 3, 4}\n",
      "{1, 2, 3, 4, 5, 6, 8}\n"
     ]
    }
   ],
   "source": [
    "my_set = {1, 3}\n",
    "print(my_set)\n",
    "my_set.add(2)\n",
    "print(my_set)\n",
    "my_set.update([2, 3, 4])\n",
    "print(my_set)\n",
    "my_set.update([4, 5], {1, 6, 8})\n",
    "print(my_set)"
   ]
  },
  {
   "cell_type": "markdown",
   "metadata": {},
   "source": [
    "# Removing  elements from set\n",
    "A particular item can be removed from a set using the methods discard() and remove().\n",
    "\n",
    "The only difference between the two is that the discard() function leaves a set unchanged if the element is not present in the set. \n",
    "\n",
    "On the other hand, the remove() function will raise an error in such a condition (if element is not present in the set)."
   ]
  },
  {
   "cell_type": "code",
   "execution_count": 6,
   "metadata": {},
   "outputs": [
    {
     "name": "stdout",
     "output_type": "stream",
     "text": [
      "{1, 3, 4, 5, 6}\n",
      "{1, 3, 5, 6}\n",
      "{1, 3, 5}\n",
      "{1, 3, 5}\n"
     ]
    },
    {
     "ename": "KeyError",
     "evalue": "2",
     "output_type": "error",
     "traceback": [
      "\u001b[1;31m---------------------------------------------------------------------------\u001b[0m",
      "\u001b[1;31mKeyError\u001b[0m                                  Traceback (most recent call last)",
      "Cell \u001b[1;32mIn[6], line 9\u001b[0m\n\u001b[0;32m      7\u001b[0m my_set\u001b[38;5;241m.\u001b[39mdiscard(\u001b[38;5;241m2\u001b[39m)\n\u001b[0;32m      8\u001b[0m \u001b[38;5;28mprint\u001b[39m(my_set)\n\u001b[1;32m----> 9\u001b[0m \u001b[43mmy_set\u001b[49m\u001b[38;5;241;43m.\u001b[39;49m\u001b[43mremove\u001b[49m\u001b[43m(\u001b[49m\u001b[38;5;241;43m2\u001b[39;49m\u001b[43m)\u001b[49m\n",
      "\u001b[1;31mKeyError\u001b[0m: 2"
     ]
    }
   ],
   "source": [
    "my_set = {1, 3, 4, 5, 6}\n",
    "print(my_set)\n",
    "my_set.discard(4)\n",
    "print(my_set)\n",
    "my_set.remove(6)\n",
    "print(my_set)\n",
    "my_set.discard(2)\n",
    "print(my_set)\n",
    "my_set.remove(2)"
   ]
  },
  {
   "cell_type": "markdown",
   "metadata": {},
   "source": [
    "# Other common methods\n",
    "    Clear()\n",
    "    Pop()\n",
    "    Copy()"
   ]
  },
  {
   "cell_type": "code",
   "execution_count": 7,
   "metadata": {},
   "outputs": [
    {
     "name": "stdout",
     "output_type": "stream",
     "text": [
      "{1, 3, 5}\n"
     ]
    }
   ],
   "source": [
    "print(my_set)"
   ]
  },
  {
   "cell_type": "code",
   "execution_count": 12,
   "metadata": {},
   "outputs": [],
   "source": [
    "my_set1 = my_set.copy()"
   ]
  },
  {
   "cell_type": "code",
   "execution_count": 13,
   "metadata": {},
   "outputs": [
    {
     "data": {
      "text/plain": [
       "{1, 3, 5}"
      ]
     },
     "execution_count": 13,
     "metadata": {},
     "output_type": "execute_result"
    }
   ],
   "source": [
    "my_set1"
   ]
  },
  {
   "cell_type": "code",
   "execution_count": 14,
   "metadata": {},
   "outputs": [
    {
     "data": {
      "text/plain": [
       "set"
      ]
     },
     "execution_count": 14,
     "metadata": {},
     "output_type": "execute_result"
    }
   ],
   "source": [
    "type(my_set)"
   ]
  },
  {
   "cell_type": "code",
   "execution_count": 10,
   "metadata": {},
   "outputs": [
    {
     "name": "stdout",
     "output_type": "stream",
     "text": [
      "['__and__', '__class__', '__class_getitem__', '__contains__', '__delattr__', '__dir__', '__doc__', '__eq__', '__format__', '__ge__', '__getattribute__', '__getstate__', '__gt__', '__hash__', '__iand__', '__init__', '__init_subclass__', '__ior__', '__isub__', '__iter__', '__ixor__', '__le__', '__len__', '__lt__', '__ne__', '__new__', '__or__', '__rand__', '__reduce__', '__reduce_ex__', '__repr__', '__ror__', '__rsub__', '__rxor__', '__setattr__', '__sizeof__', '__str__', '__sub__', '__subclasshook__', '__xor__', 'add', 'clear', 'copy', 'difference', 'difference_update', 'discard', 'intersection', 'intersection_update', 'isdisjoint', 'issubset', 'issuperset', 'pop', 'remove', 'symmetric_difference', 'symmetric_difference_update', 'union', 'update']\n"
     ]
    }
   ],
   "source": [
    "print(dir(my_set))"
   ]
  },
  {
   "cell_type": "code",
   "execution_count": 11,
   "metadata": {},
   "outputs": [
    {
     "name": "stdout",
     "output_type": "stream",
     "text": [
      "Help on built-in function copy:\n",
      "\n",
      "copy(...) method of builtins.set instance\n",
      "    Return a shallow copy of a set.\n",
      "\n"
     ]
    }
   ],
   "source": [
    "help(my_set.copy)\n"
   ]
  },
  {
   "cell_type": "code",
   "execution_count": 17,
   "metadata": {},
   "outputs": [
    {
     "name": "stdout",
     "output_type": "stream",
     "text": [
      "Help on built-in function pop:\n",
      "\n",
      "pop(...) method of builtins.set instance\n",
      "    Remove and return an arbitrary set element.\n",
      "    Raises KeyError if the set is empty.\n",
      "\n"
     ]
    }
   ],
   "source": [
    "help(my_set.pop)"
   ]
  },
  {
   "cell_type": "code",
   "execution_count": 15,
   "metadata": {},
   "outputs": [
    {
     "data": {
      "text/plain": [
       "{1, 3, 5}"
      ]
     },
     "execution_count": 15,
     "metadata": {},
     "output_type": "execute_result"
    }
   ],
   "source": [
    "my_set"
   ]
  },
  {
   "cell_type": "code",
   "execution_count": 20,
   "metadata": {},
   "outputs": [
    {
     "data": {
      "text/plain": [
       "1"
      ]
     },
     "execution_count": 20,
     "metadata": {},
     "output_type": "execute_result"
    }
   ],
   "source": [
    "my_set.pop()"
   ]
  },
  {
   "cell_type": "code",
   "execution_count": 21,
   "metadata": {},
   "outputs": [
    {
     "name": "stdout",
     "output_type": "stream",
     "text": [
      "{3, 5}\n"
     ]
    }
   ],
   "source": [
    "print(my_set)"
   ]
  },
  {
   "cell_type": "code",
   "execution_count": 22,
   "metadata": {},
   "outputs": [],
   "source": [
    "my_set.clear()"
   ]
  },
  {
   "cell_type": "code",
   "execution_count": 23,
   "metadata": {},
   "outputs": [
    {
     "name": "stdout",
     "output_type": "stream",
     "text": [
      "set()\n"
     ]
    }
   ],
   "source": [
    "print(my_set)"
   ]
  },
  {
   "cell_type": "markdown",
   "metadata": {},
   "source": [
    "# Update()"
   ]
  },
  {
   "cell_type": "code",
   "execution_count": 24,
   "metadata": {},
   "outputs": [
    {
     "name": "stdout",
     "output_type": "stream",
     "text": [
      "A = {1, 2, 3, 'a', 'b'}\n",
      "result = None\n"
     ]
    }
   ],
   "source": [
    "A = {'a', 'b'}\n",
    "B = {1, 2, 3}\n",
    "result = A.update(B)\n",
    "print('A =', A)\n",
    "print('result =', result)"
   ]
  },
  {
   "cell_type": "markdown",
   "metadata": {},
   "source": [
    "# Union()"
   ]
  },
  {
   "cell_type": "code",
   "execution_count": 26,
   "metadata": {},
   "outputs": [
    {
     "name": "stdout",
     "output_type": "stream",
     "text": [
      "A U B = {'kavin', 'ramesh', 'c', 'a', 'parvathi', 'b'}\n",
      "B U C = {'kavin', 1, 'ramesh', 2, 3, 'parvathi'}\n",
      "A U B U C = {'kavin', 1, 2, 3, 'a', 'b', 'parvathi', 'c', 'ramesh'}\n",
      "A.union() = {'c', 'a', 'b'}\n"
     ]
    }
   ],
   "source": [
    "A = {'a', 'b', 'c'}\n",
    "B = {'kavin', 'ramesh', 'parvathi' }\n",
    "C = {1, 2, 3}\n",
    "print('A U B =', A.union(B))\n",
    "print('B U C =', B.union(C))\n",
    "print('A U B U C =', A.union(B, C))\n",
    "print('A.union() =', A.union())"
   ]
  },
  {
   "cell_type": "markdown",
   "metadata": {},
   "source": [
    "# Alternative Union Method"
   ]
  },
  {
   "cell_type": "code",
   "execution_count": 27,
   "metadata": {},
   "outputs": [
    {
     "name": "stdout",
     "output_type": "stream",
     "text": [
      "A U B = {'kavin', 'ramesh', 'c', 'a', 'parvathi', 'b'}\n",
      "B U C = {'kavin', 1, 'ramesh', 2, 3, 'parvathi'}\n",
      "A U B U C = {'kavin', 1, 2, 3, 'a', 'b', 'parvathi', 'c', 'ramesh'}\n"
     ]
    }
   ],
   "source": [
    "A = {'a', 'b', 'c'}\n",
    "B = {'kavin', 'ramesh', 'parvathi' }\n",
    "C = {1, 2, 3}\n",
    "print('A U B =', A| B)\n",
    "print('B U C =', B | C)\n",
    "print('A U B U C =', A | B | C)"
   ]
  },
  {
   "cell_type": "markdown",
   "metadata": {},
   "source": [
    "# Intersection()"
   ]
  },
  {
   "cell_type": "code",
   "execution_count": 28,
   "metadata": {},
   "outputs": [
    {
     "name": "stdout",
     "output_type": "stream",
     "text": [
      "{2, 5}\n",
      "{2}\n",
      "{2, 3}\n",
      "{2}\n"
     ]
    }
   ],
   "source": [
    "A = {2, 3, 5, 4}\n",
    "B = {2, 5, 100}\n",
    "C = {2, 3, 8, 9, 10}\n",
    "print(B.intersection(A))\n",
    "print(B.intersection(C))\n",
    "print(A.intersection(C))\n",
    "print(C.intersection(A, B))"
   ]
  },
  {
   "cell_type": "markdown",
   "metadata": {},
   "source": [
    "# Set Intersection Using & operator"
   ]
  },
  {
   "cell_type": "code",
   "execution_count": 29,
   "metadata": {},
   "outputs": [
    {
     "name": "stdout",
     "output_type": "stream",
     "text": [
      "{7}\n",
      "{100}\n",
      "set()\n",
      "set()\n"
     ]
    }
   ],
   "source": [
    "A = {100, 7, 8}\n",
    "B = {200, 4, 5}\n",
    "C = {300, 2, 3, 7}\n",
    "D = {100, 200, 300}\n",
    "print(A & C)\n",
    "print(A & D)\n",
    "print(A & C & D)\n",
    "print(A & B & C & D)"
   ]
  },
  {
   "cell_type": "markdown",
   "metadata": {},
   "source": [
    "# Difference()"
   ]
  },
  {
   "cell_type": "code",
   "execution_count": 30,
   "metadata": {},
   "outputs": [
    {
     "name": "stdout",
     "output_type": "stream",
     "text": [
      "{'a', 'd', 'b'}\n",
      "{'f', 'g'}\n"
     ]
    }
   ],
   "source": [
    "A = {'a', 'b', 'c', 'd'}\n",
    "B = {'c', 'f', 'g'}\n",
    "print(A.difference(B))\n",
    "print(B.difference(A))"
   ]
  },
  {
   "cell_type": "markdown",
   "metadata": {},
   "source": [
    "# Set Difference Using – Operator"
   ]
  },
  {
   "cell_type": "code",
   "execution_count": 31,
   "metadata": {},
   "outputs": [
    {
     "name": "stdout",
     "output_type": "stream",
     "text": [
      "{'a', 'd', 'b'}\n",
      "{'f', 'g'}\n"
     ]
    }
   ],
   "source": [
    "A = {'a', 'b', 'c', 'd'}\n",
    "B = {'c', 'f', 'g'}\n",
    "print(A-B)\n",
    "print(B-A)"
   ]
  },
  {
   "cell_type": "markdown",
   "metadata": {},
   "source": [
    "# Symmetric Difference"
   ]
  },
  {
   "cell_type": "code",
   "execution_count": 32,
   "metadata": {},
   "outputs": [
    {
     "name": "stdout",
     "output_type": "stream",
     "text": [
      "{'a', 'e', 'b'}\n",
      "{'a', 'e', 'b'}\n",
      "{'c', 'a', 'd', 'b'}\n",
      "{'c', 'd', 'e'}\n"
     ]
    }
   ],
   "source": [
    "A = {'a', 'b', 'c', 'd'}\n",
    "B = {'c', 'd', 'e' }\n",
    "C = {}\n",
    "print(A.symmetric_difference(B))\n",
    "print(B.symmetric_difference(A))\n",
    "print(A.symmetric_difference(C))\n",
    "print(B.symmetric_difference(C))"
   ]
  },
  {
   "cell_type": "markdown",
   "metadata": {},
   "source": [
    "# Symmetric difference using ^ operator\n"
   ]
  },
  {
   "cell_type": "code",
   "execution_count": 33,
   "metadata": {},
   "outputs": [
    {
     "name": "stdout",
     "output_type": "stream",
     "text": [
      "{'a', 'e', 'b'}\n",
      "{'a', 'e', 'b'}\n",
      "set()\n",
      "set()\n"
     ]
    }
   ],
   "source": [
    "A = {'a', 'b', 'c', 'd'}\n",
    "B = {'c', 'd', 'e' }\n",
    "print(A ^ B)\n",
    "print(B ^ A)\n",
    "print(A ^ A)\n",
    "print(B ^ B)"
   ]
  },
  {
   "cell_type": "markdown",
   "metadata": {},
   "source": [
    "# Issubset()\n"
   ]
  },
  {
   "cell_type": "code",
   "execution_count": 34,
   "metadata": {},
   "outputs": [
    {
     "name": "stdout",
     "output_type": "stream",
     "text": [
      "True\n",
      "False\n",
      "False\n",
      "True\n"
     ]
    }
   ],
   "source": [
    "A = {1, 2, 3}\n",
    "B = {1, 2, 3, 4, 5}\n",
    "C = {1, 2, 4, 5}\n",
    "print(A.issubset(B))\n",
    "print(B.issubset(A))\n",
    "print(A.issubset(C))\n",
    "print(C.issubset(B))"
   ]
  },
  {
   "cell_type": "markdown",
   "metadata": {},
   "source": [
    "# Isdisjoint()"
   ]
  },
  {
   "cell_type": "code",
   "execution_count": 35,
   "metadata": {},
   "outputs": [
    {
     "name": "stdout",
     "output_type": "stream",
     "text": [
      "Are A and B disjoint? True\n",
      "Are A and C disjoint? False\n"
     ]
    }
   ],
   "source": [
    "A = {1, 2, 3, 4}\n",
    "B = {5, 6, 7}\n",
    "C = {4, 5, 6}\n",
    "print('Are A and B disjoint?', A.isdisjoint(B))\n",
    "print('Are A and C disjoint?', A.isdisjoint(C))"
   ]
  },
  {
   "cell_type": "markdown",
   "metadata": {},
   "source": [
    "# Dictionary"
   ]
  },
  {
   "cell_type": "code",
   "execution_count": 38,
   "metadata": {},
   "outputs": [
    {
     "name": "stdout",
     "output_type": "stream",
     "text": [
      "{}\n",
      "{1: 'apple', 2: 'ball'}\n",
      "{'name': 'John', 1: [2, 4, 3]}\n"
     ]
    }
   ],
   "source": [
    "my_dict = {}\n",
    "print(my_dict)\n",
    "my_dict = {1: 'apple', 2: 'ball'}\n",
    "\n",
    "print(my_dict)\n",
    "my_dict = {'name': 'John', 1: [2, 4, 3]}\n",
    "\n",
    "print(my_dict)\n",
    "my_dict = dict({1:'apple', 2:'ball'})\n",
    "# my_dict = dict([(1,'apple'), (2,'ball’)])"
   ]
  },
  {
   "cell_type": "markdown",
   "metadata": {},
   "source": [
    "# Accessing Elements from Dictionary"
   ]
  },
  {
   "cell_type": "code",
   "execution_count": 39,
   "metadata": {},
   "outputs": [
    {
     "name": "stdout",
     "output_type": "stream",
     "text": [
      "Jack\n",
      "26\n",
      "None\n"
     ]
    },
    {
     "ename": "KeyError",
     "evalue": "'address'",
     "output_type": "error",
     "traceback": [
      "\u001b[1;31m---------------------------------------------------------------------------\u001b[0m",
      "\u001b[1;31mKeyError\u001b[0m                                  Traceback (most recent call last)",
      "Cell \u001b[1;32mIn[39], line 5\u001b[0m\n\u001b[0;32m      3\u001b[0m \u001b[38;5;28mprint\u001b[39m(my_dict\u001b[38;5;241m.\u001b[39mget(\u001b[38;5;124m'\u001b[39m\u001b[38;5;124mage\u001b[39m\u001b[38;5;124m'\u001b[39m))\n\u001b[0;32m      4\u001b[0m \u001b[38;5;28mprint\u001b[39m(my_dict\u001b[38;5;241m.\u001b[39mget(\u001b[38;5;124m'\u001b[39m\u001b[38;5;124maddress\u001b[39m\u001b[38;5;124m'\u001b[39m))\n\u001b[1;32m----> 5\u001b[0m \u001b[38;5;28mprint\u001b[39m(\u001b[43mmy_dict\u001b[49m\u001b[43m[\u001b[49m\u001b[38;5;124;43m'\u001b[39;49m\u001b[38;5;124;43maddress\u001b[39;49m\u001b[38;5;124;43m'\u001b[39;49m\u001b[43m]\u001b[49m)\n",
      "\u001b[1;31mKeyError\u001b[0m: 'address'"
     ]
    }
   ],
   "source": [
    "my_dict = {'name': 'Jack', 'age': 26}\n",
    "print(my_dict['name'])\n",
    "print(my_dict.get('age'))\n",
    "print(my_dict.get('address'))\n",
    "print(my_dict['address'])"
   ]
  },
  {
   "cell_type": "markdown",
   "metadata": {},
   "source": [
    "# Changing and Adding Dictionary elements"
   ]
  },
  {
   "cell_type": "code",
   "execution_count": 40,
   "metadata": {},
   "outputs": [
    {
     "name": "stdout",
     "output_type": "stream",
     "text": [
      "{'name': 'Jack', 'age': 27}\n",
      "{'name': 'Jack', 'age': 27, 'address': 'Downtown'}\n"
     ]
    }
   ],
   "source": [
    "my_dict = {'name': 'Jack', 'age': 26}\n",
    "my_dict['age'] = 27\n",
    "print(my_dict)\n",
    "my_dict['address'] = 'Downtown'\n",
    "print(my_dict)"
   ]
  },
  {
   "cell_type": "markdown",
   "metadata": {},
   "source": [
    "# Removing elements from Dictionary"
   ]
  },
  {
   "cell_type": "code",
   "execution_count": 41,
   "metadata": {},
   "outputs": [
    {
     "name": "stdout",
     "output_type": "stream",
     "text": [
      "16\n",
      "{1: 1, 2: 4, 3: 9, 5: 25}\n",
      "(5, 25)\n",
      "{1: 1, 2: 4, 3: 9}\n",
      "{}\n"
     ]
    },
    {
     "ename": "NameError",
     "evalue": "name 'squares' is not defined",
     "output_type": "error",
     "traceback": [
      "\u001b[1;31m---------------------------------------------------------------------------\u001b[0m",
      "\u001b[1;31mNameError\u001b[0m                                 Traceback (most recent call last)",
      "Cell \u001b[1;32mIn[41], line 9\u001b[0m\n\u001b[0;32m      7\u001b[0m \u001b[38;5;28mprint\u001b[39m(squares)\n\u001b[0;32m      8\u001b[0m \u001b[38;5;28;01mdel\u001b[39;00m squares\n\u001b[1;32m----> 9\u001b[0m \u001b[38;5;28mprint\u001b[39m(\u001b[43msquares\u001b[49m)\n",
      "\u001b[1;31mNameError\u001b[0m: name 'squares' is not defined"
     ]
    }
   ],
   "source": [
    "squares = {1: 1, 2: 4, 3: 9, 4: 16, 5: 25}\n",
    "print(squares.pop(4))\n",
    "print(squares)\n",
    "print(squares.popitem())\n",
    "print(squares)\n",
    "squares.clear()\n",
    "print(squares)\n",
    "del squares\n",
    "print(squares)"
   ]
  },
  {
   "cell_type": "markdown",
   "metadata": {},
   "source": [
    "# Other Common Methods\n",
    "    Clear()\n",
    "    Copy()\n",
    "    Update()\n",
    "    Len()\n",
    "    Sorted()"
   ]
  },
  {
   "cell_type": "markdown",
   "metadata": {},
   "source": [
    "# Fromkeys()"
   ]
  },
  {
   "cell_type": "code",
   "execution_count": 43,
   "metadata": {},
   "outputs": [
    {
     "name": "stdout",
     "output_type": "stream",
     "text": [
      "{'o': None, 'i': None, 'a': None, 'e': None, 'u': None}\n"
     ]
    }
   ],
   "source": [
    "keys = {'a', 'e', 'i', 'o', 'u' }\n",
    "vowels = dict.fromkeys(keys)\n",
    "print(vowels)"
   ]
  },
  {
   "cell_type": "code",
   "execution_count": 42,
   "metadata": {},
   "outputs": [
    {
     "name": "stdout",
     "output_type": "stream",
     "text": [
      "{'o': [1], 'i': [1], 'a': [1], 'e': [1], 'u': [1]}\n",
      "{'o': [1, 2], 'i': [1, 2], 'a': [1, 2], 'e': [1, 2], 'u': [1, 2]}\n"
     ]
    }
   ],
   "source": [
    "keys = {'a', 'e', 'i', 'o', 'u' }\n",
    "value = [1]\n",
    "vowels = dict.fromkeys(keys, value)\n",
    "print(vowels)\n",
    "value.append(2)\n",
    "print(vowels)"
   ]
  },
  {
   "cell_type": "markdown",
   "metadata": {},
   "source": [
    "# Get()"
   ]
  },
  {
   "cell_type": "code",
   "execution_count": 44,
   "metadata": {},
   "outputs": [
    {
     "name": "stdout",
     "output_type": "stream",
     "text": [
      "67\n"
     ]
    }
   ],
   "source": [
    "marks = {'Physics':67, 'Maths':87}\n",
    "print(marks.get('Physics'))"
   ]
  },
  {
   "cell_type": "markdown",
   "metadata": {},
   "source": [
    "# Item()"
   ]
  },
  {
   "cell_type": "code",
   "execution_count": 45,
   "metadata": {},
   "outputs": [
    {
     "name": "stdout",
     "output_type": "stream",
     "text": [
      "dict_items([('apple', 2), ('orange', 3), ('grapes', 4)])\n"
     ]
    }
   ],
   "source": [
    "sales = { 'apple': 2, 'orange': 3, 'grapes': 4 }\n",
    "print(sales.items())"
   ]
  },
  {
   "cell_type": "code",
   "execution_count": 46,
   "metadata": {},
   "outputs": [
    {
     "name": "stdout",
     "output_type": "stream",
     "text": [
      "Original items: dict_items([('apple', 2), ('orange', 3), ('grapes', 4)])\n",
      "Updated items: dict_items([('orange', 3), ('grapes', 4)])\n"
     ]
    }
   ],
   "source": [
    "sales = { 'apple': 2, 'orange': 3, 'grapes': 4 }\n",
    "items = sales.items()\n",
    "print('Original items:', items)\n",
    "del[sales['apple']]\n",
    "print('Updated items:', items)"
   ]
  },
  {
   "cell_type": "markdown",
   "metadata": {},
   "source": [
    "# Keys()"
   ]
  },
  {
   "cell_type": "code",
   "execution_count": 47,
   "metadata": {},
   "outputs": [
    {
     "name": "stdout",
     "output_type": "stream",
     "text": [
      "dict_keys(['name', 'age', 'salary'])\n",
      "dict_keys([])\n"
     ]
    }
   ],
   "source": [
    "person = {'name': 'Phill', 'age': 22, 'salary': 3500.0}\n",
    "print(person.keys())\n",
    "empty_dict = {}\n",
    "print(empty_dict.keys())"
   ]
  },
  {
   "cell_type": "code",
   "execution_count": 48,
   "metadata": {},
   "outputs": [
    {
     "name": "stdout",
     "output_type": "stream",
     "text": [
      "Before dictionary is updated\n",
      "dict_keys(['name', 'age'])\n",
      "\n",
      "After dictionary is updated\n",
      "dict_keys(['name', 'age', 'salary'])\n"
     ]
    }
   ],
   "source": [
    "person = {'name': 'Phill', 'age': 22, }\n",
    "print('Before dictionary is updated')\n",
    "keys = person.keys()\n",
    "print(keys)\n",
    "person.update({'salary': 3500.0})\n",
    "print('\\nAfter dictionary is updated')\n",
    "print(keys)"
   ]
  },
  {
   "cell_type": "markdown",
   "metadata": {},
   "source": [
    "# Values()"
   ]
  },
  {
   "cell_type": "code",
   "execution_count": 49,
   "metadata": {},
   "outputs": [
    {
     "name": "stdout",
     "output_type": "stream",
     "text": [
      "Original items: dict_values([2, 3, 4])\n",
      "Updated items: dict_values([3, 4])\n"
     ]
    }
   ],
   "source": [
    "sales = { 'apple': 2, 'orange': 3, 'grapes': 4 }\n",
    "values = sales.values()\n",
    "print('Original items:', values)\n",
    "del[sales['apple']]\n",
    "print('Updated items:', values)"
   ]
  },
  {
   "cell_type": "markdown",
   "metadata": {},
   "source": [
    "# All()"
   ]
  },
  {
   "cell_type": "code",
   "execution_count": 50,
   "metadata": {},
   "outputs": [
    {
     "name": "stdout",
     "output_type": "stream",
     "text": [
      "True\n",
      "False\n",
      "False\n",
      "False\n",
      "True\n"
     ]
    }
   ],
   "source": [
    "l = [1, 3, 4, 5]\n",
    "print(all(l))\n",
    "l = [0, False]\n",
    "print(all(l))\n",
    "l = [1, 3, 4, 0]\n",
    "print(all(l))\n",
    "l = [0, False, 5]\n",
    "print(all(l))\n",
    "l = []\n",
    "print(all(l))\n"
   ]
  },
  {
   "cell_type": "markdown",
   "metadata": {},
   "source": [
    "# How it works for strings?\n",
    "Example:\n"
   ]
  },
  {
   "cell_type": "code",
   "execution_count": 51,
   "metadata": {},
   "outputs": [
    {
     "name": "stdout",
     "output_type": "stream",
     "text": [
      "True\n",
      "True\n",
      "True\n"
     ]
    }
   ],
   "source": [
    "s = \"This is good\"\n",
    "print(all(s))\n",
    "s = '000'\n",
    "print(all(s))\n",
    "s = ''\n",
    "print(all(s))"
   ]
  },
  {
   "cell_type": "markdown",
   "metadata": {},
   "source": [
    "# How all() works with Python dictionaries?\n"
   ]
  },
  {
   "cell_type": "code",
   "execution_count": 52,
   "metadata": {},
   "outputs": [
    {
     "name": "stdout",
     "output_type": "stream",
     "text": [
      "False\n",
      "True\n",
      "False\n",
      "True\n",
      "True\n"
     ]
    }
   ],
   "source": [
    "s = {0: 'False', 1: 'False'}\n",
    "print(all(s))\n",
    "s = {1: 'True', 2: 'True'}\n",
    "print(all(s))\n",
    "s = {1: 'True', False: 0}\n",
    "print(all(s))\n",
    "s = {}\n",
    "print(all(s))\n",
    "s = {'0': 'True'}\n",
    "print(all(s))"
   ]
  },
  {
   "cell_type": "markdown",
   "metadata": {},
   "source": [
    "# Any()"
   ]
  },
  {
   "cell_type": "code",
   "execution_count": 53,
   "metadata": {},
   "outputs": [
    {
     "name": "stdout",
     "output_type": "stream",
     "text": [
      "True\n",
      "False\n",
      "True\n",
      "False\n"
     ]
    }
   ],
   "source": [
    "l = [1, 3, 4, 0]\n",
    "print(any(l))\n",
    "l = [0, False]\n",
    "print(any(l))\n",
    "l = [0, False, 5]\n",
    "print(any(l))\n",
    "l = []\n",
    "print(any(l))"
   ]
  },
  {
   "cell_type": "markdown",
   "metadata": {},
   "source": [
    "# Using any() on Python Strings\n"
   ]
  },
  {
   "cell_type": "code",
   "execution_count": 54,
   "metadata": {},
   "outputs": [
    {
     "name": "stdout",
     "output_type": "stream",
     "text": [
      "True\n",
      "True\n",
      "False\n"
     ]
    }
   ],
   "source": [
    "\n",
    "s = \"This is good\"\n",
    "print(any(s))\n",
    "s = '000'\n",
    "print(any(s))\n",
    "s = ''\n",
    "print(any(s))"
   ]
  },
  {
   "cell_type": "markdown",
   "metadata": {},
   "source": [
    "# Using any() with Python Dictionaries\n"
   ]
  },
  {
   "cell_type": "code",
   "execution_count": 58,
   "metadata": {},
   "outputs": [
    {
     "name": "stdout",
     "output_type": "stream",
     "text": [
      "False\n",
      "True\n",
      "False\n",
      "False\n",
      "True\n"
     ]
    }
   ],
   "source": [
    "d = {0: 'False'}\n",
    "print(any(d))\n",
    "d = {0: 'False', 1: 'True'}\n",
    "print(any(d)) \n",
    "d = {0: 'False', False: 0}\n",
    "print(any(d))\n",
    "d = {}\n",
    "print(any(d))\n",
    "d = {'0': 'False'}\n",
    "print(any(d))"
   ]
  },
  {
   "cell_type": "code",
   "execution_count": null,
   "metadata": {},
   "outputs": [],
   "source": []
  }
 ],
 "metadata": {
  "kernelspec": {
   "display_name": "venv",
   "language": "python",
   "name": "python3"
  },
  "language_info": {
   "codemirror_mode": {
    "name": "ipython",
    "version": 3
   },
   "file_extension": ".py",
   "mimetype": "text/x-python",
   "name": "python",
   "nbconvert_exporter": "python",
   "pygments_lexer": "ipython3",
   "version": "3.12.1"
  }
 },
 "nbformat": 4,
 "nbformat_minor": 2
}
